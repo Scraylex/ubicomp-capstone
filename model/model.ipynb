{
 "cells": [
  {
   "cell_type": "code",
   "execution_count": null,
   "metadata": {},
   "outputs": [],
   "source": [
    "import torch\n",
    "import torch.nn as nn\n",
    "\n",
    "class ConvLSTMClassifier(nn.Module):\n",
    "    def __init__(self, input_size, hidden_size, num_classes):\n",
    "        super(ConvLSTMClassifier, self).__init__()\n",
    "        \n",
    "        self.conv = nn.Conv2d(in_channels=input_size, out_channels=hidden_size, kernel_size=3, padding=1)\n",
    "        self.lstm = nn.LSTM(input_size=hidden_size, hidden_size=hidden_size, num_layers=1, batch_first=True)\n",
    "        self.fc = nn.Linear(hidden_size, num_classes)\n",
    "        \n",
    "    def forward(self, x):\n",
    "        x = self.conv(x)\n",
    "        x = x.permute(0, 2, 1, 3).contiguous()\n",
    "        batch_size, seq_len, hidden_size, _ = x.size()\n",
    "        x = x.view(batch_size, seq_len, -1)\n",
    "        _, (h_n, _) = self.lstm(x)\n",
    "        x = h_n.squeeze(0)\n",
    "        x = self.fc(x)\n",
    "        return x\n"
   ]
  }
 ],
 "metadata": {
  "kernelspec": {
   "display_name": ".venv",
   "language": "python",
   "name": "python3"
  },
  "language_info": {
   "name": "python",
   "version": "3.11.6"
  }
 },
 "nbformat": 4,
 "nbformat_minor": 2
}
