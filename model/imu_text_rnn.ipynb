{
 "cells": [
  {
   "cell_type": "markdown",
   "metadata": {},
   "source": [
    "# Imports"
   ]
  },
  {
   "cell_type": "code",
   "execution_count": 71,
   "metadata": {},
   "outputs": [],
   "source": [
    "import os\n",
    "import torch\n",
    "from torch.utils.data import Dataset\n",
    "from transformers import BertTokenizer, BertModel\n",
    "import pandas as pd\n",
    "import numpy as np\n",
    "import torch.nn as nn\n",
    "from torch.utils.data import random_split\n",
    "from sklearn.metrics import confusion_matrix, classification_report\n",
    "from tqdm import tqdm"
   ]
  },
  {
   "cell_type": "markdown",
   "metadata": {},
   "source": [
    "# Loader"
   ]
  },
  {
   "cell_type": "code",
   "execution_count": 72,
   "metadata": {},
   "outputs": [],
   "source": [
    "CLASSES = [\"wearing\", \"packaging\", \"drinking\", \"passing\"]\n",
    "\n",
    "class IMUTextDataset(Dataset):\n",
    "    def __init__(self, root_dir, tokenizer, bert_model):\n",
    "        self.root_dir = root_dir\n",
    "        self.tokenizer = tokenizer\n",
    "        self.bert_model = bert_model\n",
    "        self.samples = self._prepare_dataset()\n",
    "\n",
    "    def _prepare_dataset(self):\n",
    "        samples = []\n",
    "        for dir_name in os.listdir(self.root_dir):\n",
    "            label = dir_name.split('_')[0]\n",
    "            full_path = os.path.join(self.root_dir, dir_name)\n",
    "            if os.path.isdir(full_path):\n",
    "                samples.append((full_path, label))\n",
    "        return samples\n",
    "\n",
    "    def _aggregate_samples(self, data, window_size=10):\n",
    "        selected_data = data.iloc[:, :6]   \n",
    "        while len(selected_data) < window_size:\n",
    "            selected_data = selected_data.append(pd.Series(), ignore_index=True)\n",
    "        aggregated_data = selected_data.groupby(np.arange(len(selected_data)) // window_size).mean()\n",
    "        return aggregated_data\n",
    "\n",
    "    def _get_text_embedding(self, text):\n",
    "        inputs = self.tokenizer(text, return_tensors='pt', padding=True, truncation=True, max_length=128)\n",
    "        with torch.no_grad():\n",
    "            outputs = self.bert_model(**inputs)\n",
    "        return outputs.last_hidden_state.mean(dim=1)\n",
    "\n",
    "    def __len__(self):\n",
    "        return len(self.samples)\n",
    "\n",
    "    def __getitem__(self, idx):\n",
    "        path, label = self.samples[idx]\n",
    "        imu_data = pd.read_csv(os.path.join(path, 'out.csv'))\n",
    "        imu_aggregated = self._aggregate_samples(imu_data)\n",
    "\n",
    "        text_embeddings = []\n",
    "        for txt_file in sorted(os.listdir(path)):\n",
    "            if txt_file.endswith('.txt'):\n",
    "                try:\n",
    "                    with open(os.path.join(path, txt_file), 'r') as file:\n",
    "                        text_data = file.read()\n",
    "                        text_embedding = self._get_text_embedding(text_data)\n",
    "                        text_embeddings.append(text_embedding)\n",
    "                except FileNotFoundError:\n",
    "                    text_embeddings.append(torch.zeros(768))  # Handle missing text file\n",
    "\n",
    "        # Truncate or pad text_embeddings to match imu_aggregated length\n",
    "        text_embeddings = text_embeddings[:len(imu_aggregated)]\n",
    "        while len(text_embeddings) < len(imu_aggregated):\n",
    "            text_embeddings.append(torch.zeros(768))\n",
    "\n",
    "        # Concatenate imu data and text embeddings\n",
    "        combined_data = []\n",
    "        for imu, text in zip(imu_aggregated.values, text_embeddings):\n",
    "            imu_tensor = torch.tensor(imu, dtype=torch.float32)\n",
    "            if imu_tensor.ndim == 1:\n",
    "                imu_tensor = imu_tensor.unsqueeze(0)\n",
    "            if text.ndim == 1:\n",
    "                text = text.unsqueeze(0)\n",
    "            combined = torch.cat((imu_tensor, text), dim=1)\n",
    "            combined_data.append(combined)\n",
    "\n",
    "        # Stack the combined data\n",
    "        # This will be of shape [seq_len, features], where features = imu + text embedding size\n",
    "        batch_data = torch.cat(combined_data, dim=0)\n",
    "\n",
    "        sample = {\n",
    "            'combined_data': batch_data,\n",
    "            'label': CLASSES.index(label)  # Convert label to tensor\n",
    "        }\n",
    "        return sample"
   ]
  },
  {
   "cell_type": "markdown",
   "metadata": {},
   "source": [
    "# Model"
   ]
  },
  {
   "cell_type": "code",
   "execution_count": 73,
   "metadata": {},
   "outputs": [],
   "source": [
    "class IMUTextClassifier(nn.Module):\n",
    "    def __init__(self, combined_input_size, hidden_size, num_classes):\n",
    "        super(IMUTextClassifier, self).__init__()\n",
    "        self.lstm = nn.LSTM(input_size=combined_input_size, hidden_size=hidden_size, batch_first=True)\n",
    "        self.fc = nn.Linear(hidden_size, num_classes)\n",
    "\n",
    "    def forward(self, combined_input):\n",
    "        # The combined_input is already a combination of IMU data and text data\n",
    "        lstm_out, _ = self.lstm(combined_input)\n",
    "        lstm_out = lstm_out[:, -1, :]  # Get the output of the last time step\n",
    "        out = self.fc(lstm_out)\n",
    "        return out"
   ]
  },
  {
   "cell_type": "markdown",
   "metadata": {},
   "source": [
    "# Split"
   ]
  },
  {
   "cell_type": "code",
   "execution_count": 74,
   "metadata": {},
   "outputs": [],
   "source": [
    "tokenizer = BertTokenizer.from_pretrained('bert-base-uncased')\n",
    "bert_model = BertModel.from_pretrained('bert-base-uncased')\n",
    "# Assuming 'samples' is a list of all your samples (file paths and labels)\n",
    "\n",
    "dataset = IMUTextDataset(root_dir='../data/', tokenizer=tokenizer, bert_model=bert_model)\n",
    "\n",
    "# Assume 'dataset' is your initialized PyTorch dataset\n",
    "dataset_size = len(dataset)\n",
    "train_size = int(0.75 * dataset_size)\n",
    "test_size = dataset_size - train_size\n",
    "\n",
    "# Split the dataset into train and test sets\n",
    "train_dataset, test_dataset = random_split(dataset, [train_size, test_size])\n",
    "\n",
    "# You can now use these subsets with a DataLoader\n",
    "train_loader = torch.utils.data.DataLoader(train_dataset, batch_size=1, shuffle=True)\n",
    "test_loader = torch.utils.data.DataLoader(test_dataset, batch_size=1, shuffle=False)"
   ]
  },
  {
   "cell_type": "markdown",
   "metadata": {},
   "source": [
    "# Train"
   ]
  },
  {
   "cell_type": "code",
   "execution_count": 75,
   "metadata": {},
   "outputs": [],
   "source": [
    "combined_input_size = 774  # 6 IMU features + 768 text embedding size\n",
    "hidden_size = 128\n",
    "num_classes = 4\n",
    "\n",
    "model = IMUTextClassifier(combined_input_size, hidden_size, num_classes)\n"
   ]
  },
  {
   "cell_type": "code",
   "execution_count": 76,
   "metadata": {},
   "outputs": [
    {
     "name": "stderr",
     "output_type": "stream",
     "text": [
      "100%|██████████| 10/10 [04:02<00:00, 24.21s/it]\n"
     ]
    }
   ],
   "source": [
    "# Assuming model is already defined and initialized\n",
    "criterion = nn.CrossEntropyLoss()\n",
    "optimizer = torch.optim.Adam(model.parameters(), lr=0.001)\n",
    "\n",
    "num_epochs = 10  # Define the number of epochs\n",
    "for epoch in tqdm(range(num_epochs)):\n",
    "    model.train()  # Set the model to training mode\n",
    "    for batch in train_loader:\n",
    "        combined_data, labels = batch['combined_data'], batch['label']\n",
    "        outputs = model(combined_data)  # Pass the combined data directly to the model\n",
    "        loss = criterion(outputs, labels)\n",
    "\n",
    "        optimizer.zero_grad()\n",
    "        loss.backward()\n",
    "        optimizer.step()"
   ]
  },
  {
   "cell_type": "markdown",
   "metadata": {},
   "source": [
    "# Eval"
   ]
  },
  {
   "cell_type": "code",
   "execution_count": 77,
   "metadata": {},
   "outputs": [
    {
     "name": "stdout",
     "output_type": "stream",
     "text": [
      "              precision    recall  f1-score   support\n",
      "\n",
      "           0       1.00      1.00      1.00         2\n",
      "           1       1.00      1.00      1.00         4\n",
      "           2       1.00      1.00      1.00         2\n",
      "           3       1.00      1.00      1.00         2\n",
      "\n",
      "    accuracy                           1.00        10\n",
      "   macro avg       1.00      1.00      1.00        10\n",
      "weighted avg       1.00      1.00      1.00        10\n",
      "\n",
      "Confusion Matrix:\n",
      "[[2 0 0 0]\n",
      " [0 4 0 0]\n",
      " [0 0 2 0]\n",
      " [0 0 0 2]]\n"
     ]
    }
   ],
   "source": [
    "# Function to convert tensors to numpy arrays\n",
    "def to_numpy(tensor):\n",
    "    return tensor.cpu().detach().numpy()\n",
    "\n",
    "# Evaluation\n",
    "model.eval()\n",
    "all_labels = []\n",
    "all_predictions = []\n",
    "\n",
    "with torch.no_grad():\n",
    "    for batch in test_loader:\n",
    "        combined_data, labels = batch['combined_data'], batch['label']\n",
    "        outputs = model(combined_data)\n",
    "        _, predicted = torch.max(outputs, 1)\n",
    "        \n",
    "        all_labels.extend(to_numpy(labels))\n",
    "        all_predictions.extend(to_numpy(predicted))\n",
    "\n",
    "# Convert all labels and predictions to numpy arrays for sklearn functions\n",
    "all_labels = np.array(all_labels)\n",
    "all_predictions = np.array(all_predictions)\n",
    "\n",
    "# Calculate and print metrics\n",
    "print(classification_report(all_labels, all_predictions))\n",
    "\n",
    "# Calculate and print the confusion matrix\n",
    "conf_matrix = confusion_matrix(all_labels, all_predictions)\n",
    "print(\"Confusion Matrix:\")\n",
    "print(conf_matrix)"
   ]
  },
  {
   "cell_type": "markdown",
   "metadata": {},
   "source": [
    "# Save"
   ]
  },
  {
   "cell_type": "code",
   "execution_count": 78,
   "metadata": {},
   "outputs": [],
   "source": [
    "# Save the entire model\n",
    "torch.save(model, '../model/imu_text_rnn.pth')"
   ]
  },
  {
   "cell_type": "markdown",
   "metadata": {},
   "source": [
    "# Load"
   ]
  },
  {
   "cell_type": "code",
   "execution_count": null,
   "metadata": {},
   "outputs": [],
   "source": [
    "# To load the model later\n",
    "loaded_model = torch.load('../model/imu_text_rnn.pth')"
   ]
  }
 ],
 "metadata": {
  "kernelspec": {
   "display_name": ".venv",
   "language": "python",
   "name": "python3"
  },
  "language_info": {
   "codemirror_mode": {
    "name": "ipython",
    "version": 3
   },
   "file_extension": ".py",
   "mimetype": "text/x-python",
   "name": "python",
   "nbconvert_exporter": "python",
   "pygments_lexer": "ipython3",
   "version": "3.11.6"
  }
 },
 "nbformat": 4,
 "nbformat_minor": 2
}
